{
  "nbformat": 4,
  "nbformat_minor": 0,
  "metadata": {
    "colab": {
      "name": "Ejercicio1_IAyRN.ipynb",
      "provenance": [],
      "authorship_tag": "ABX9TyOoBmOZdJl8oW/+BkGkMXR9",
      "include_colab_link": true
    },
    "kernelspec": {
      "name": "python3",
      "display_name": "Python 3"
    },
    "language_info": {
      "name": "python"
    }
  },
  "cells": [
    {
      "cell_type": "markdown",
      "metadata": {
        "id": "view-in-github",
        "colab_type": "text"
      },
      "source": [
        "<a href=\"https://colab.research.google.com/github/cochesitobb/InteligenciaArtificialIMTC_UANL1800780/blob/main/Ejercicio1_IAyRN.ipynb\" target=\"_parent\"><img src=\"https://colab.research.google.com/assets/colab-badge.svg\" alt=\"Open In Colab\"/></a>"
      ]
    },
    {
      "cell_type": "markdown",
      "metadata": {
        "id": "AJgxJqpcQYS4"
      },
      "source": [
        "José Luis Gutiérrez Mendoza 1800780 IMTC"
      ]
    },
    {
      "cell_type": "markdown",
      "metadata": {
        "id": "ZPYOCzxvK5us"
      },
      "source": [
        "Problema 1:\n",
        "Crear un programa que le pida al usuario que introduzca y su edad. Como salida deberá imprimir \"(nombre) tendra 55 años en el año (año)\".\n"
      ]
    },
    {
      "cell_type": "code",
      "metadata": {
        "colab": {
          "base_uri": "https://localhost:8080/"
        },
        "id": "YBaymO324BJS",
        "outputId": "ba85a6b1-1c50-4deb-b5a4-a7c48f581c3a"
      },
      "source": [
        "print(\"Dime tu nombre\")\n",
        "nombre = input()\n",
        "print(\"Dime tu edad\")\n",
        "edad = float(input())\n",
        "año = 2021\n",
        "años = 55 - edad + año\n",
        "if (edad>=55):\n",
        "  print(\"Ya cumpliste 55 años\")\n",
        "else:\n",
        "  print(f\"{nombre} tendra 55 años en el año {años}\")"
      ],
      "execution_count": 51,
      "outputs": [
        {
          "output_type": "stream",
          "text": [
            "Dime tu nombre\n",
            "jos\n",
            "Dime tu edad\n",
            "55\n",
            "Ya cumpliste 55 años\n"
          ],
          "name": "stdout"
        }
      ]
    },
    {
      "cell_type": "markdown",
      "metadata": {
        "id": "Pq51owrDMYqf"
      },
      "source": [
        "Problema 2: Pregunta al usuario por un número aleatorio. Dependiendo si el número es par o impar, imprime el mensaje correspondiente."
      ]
    },
    {
      "cell_type": "code",
      "metadata": {
        "id": "U-M0X1pbMioa"
      },
      "source": [
        ""
      ],
      "execution_count": null,
      "outputs": []
    },
    {
      "cell_type": "code",
      "metadata": {
        "colab": {
          "base_uri": "https://localhost:8080/"
        },
        "id": "09EgTNvtDdII",
        "outputId": "c8d33975-3499-4ddd-9ab2-bb6af97300aa"
      },
      "source": [
        "print(\"dime un numero entero\")\n",
        "num = float(input())\n",
        "if ((num % 2) == 0):\n",
        "  print(\"el numero es par\")\n",
        "else :\n",
        "  print(\"el numero es impar\")"
      ],
      "execution_count": 38,
      "outputs": [
        {
          "output_type": "stream",
          "text": [
            "dime un numero entero\n",
            "2\n",
            "el numero es par\n"
          ],
          "name": "stdout"
        }
      ]
    }
  ]
}