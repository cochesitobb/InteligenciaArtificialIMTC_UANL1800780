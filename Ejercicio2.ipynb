{
  "nbformat": 4,
  "nbformat_minor": 0,
  "metadata": {
    "colab": {
      "name": "Ejercicio2.ipynb",
      "provenance": [],
      "authorship_tag": "ABX9TyOgWP1kTXwxjIOqGZvOsMco",
      "include_colab_link": true
    },
    "kernelspec": {
      "name": "python3",
      "display_name": "Python 3"
    },
    "language_info": {
      "name": "python"
    }
  },
  "cells": [
    {
      "cell_type": "markdown",
      "metadata": {
        "id": "view-in-github",
        "colab_type": "text"
      },
      "source": [
        "<a href=\"https://colab.research.google.com/github/cochesitobb/InteligenciaArtificialIMTC_UANL1800780/blob/main/Ejercicio2.ipynb\" target=\"_parent\"><img src=\"https://colab.research.google.com/assets/colab-badge.svg\" alt=\"Open In Colab\"/></a>"
      ]
    },
    {
      "cell_type": "code",
      "metadata": {
        "colab": {
          "base_uri": "https://localhost:8080/"
        },
        "id": "9v9pGTUcGfcC",
        "outputId": "401e1a8a-f83b-4c18-d944-cbe7a28ba11a"
      },
      "source": [
        "igual, aux = 0, 0\n",
        "\n",
        "texto = input(\"Ingrese la palabra que desea evaluar: \")\n",
        "\n",
        "for ind in reversed(range(0, len(texto))):\n",
        "  if texto[ind].lower() == texto[aux].lower():\n",
        "    igual += 1\n",
        "  aux += 1\n",
        "\n",
        "if len(texto) == igual:\n",
        "  print(\"El texto es palindromo!\")\n",
        "else:\n",
        "  print(\"El texto no es palindromo!\")"
      ],
      "execution_count": 78,
      "outputs": [
        {
          "output_type": "stream",
          "text": [
            "Ingrese la palabra que desea evaluar: anitalavalatina\n",
            "El texto es palindromo!\n"
          ],
          "name": "stdout"
        }
      ]
    },
    {
      "cell_type": "code",
      "metadata": {
        "colab": {
          "base_uri": "https://localhost:8080/"
        },
        "id": "QN5-1MwyGgaT",
        "outputId": "fccbd6a7-052e-463c-d641-11962e41da66"
      },
      "source": [
        "numero = int(input('Escribe el primer numero ')) # Alamacena el primer numero ingresado por el usuario en la variable numero\n",
        "numerob= int(input('Escribe el segundo numero ')) # Alamacena el segundo numero ingresado por el usuario en la variable numerob\n",
        "# Funcion que evalua los numero para decidir que hacer al imprimir \n",
        "def proceso(numero, numerob):\n",
        "  #Variable para la evaluacion del producto\n",
        "  mult = numero * numerob\n",
        "\n",
        "  if (mult>846):\n",
        "    mult = str(mult)\n",
        "    print('Es mayor a 846 por lo tanto la multiplicacion es: '+ mult)\n",
        "  else: #No es mayor por lo tanto suma los numeros\n",
        "      sum = numero + numerob\n",
        "      sum = str(sum)\n",
        "      print('No es mayor a 846 por lo tanto la suma es: '+ sum)\n",
        "\n",
        "#llamado a la funcion con los paramertros numero y numerob\n",
        "proceso(numero, numerob)"
      ],
      "execution_count": 76,
      "outputs": [
        {
          "output_type": "stream",
          "text": [
            "escribe el primer numero 451\n",
            "Escribe el segundo numero 6545\n",
            "Es mayor a 846 por lo tanto la multiplicacion es: 2951795\n"
          ],
          "name": "stdout"
        }
      ]
    },
    {
      "cell_type": "code",
      "metadata": {
        "colab": {
          "base_uri": "https://localhost:8080/"
        },
        "id": "M3mgGyUa4R3N",
        "outputId": "a5002365-8fd8-4a41-ead8-4e2845f6dbf0"
      },
      "source": [
        "Lista=[]\n",
        "\n",
        "\n",
        "def reccorrido():\n",
        "  i =\"y\"\n",
        "  while (i==\"y\"):\n",
        "      Lista.append(int(input('agregar elementos a la lista ')))\n",
        "      i=input('Seguir = y, salir = n')\n",
        "def GetElements():\n",
        "    primer=Lista[0]\n",
        "    numultimo=int(len(Lista)-1)\n",
        "    ultimo =Lista[numultimo]\t\n",
        "    primernumero = str(primer)\n",
        "    ultimo=str(ultimo)\n",
        "    print(Lista)\n",
        "    print(primernumero)\n",
        "    print(ultimo)\n",
        "    if primernumero == ultimo:\n",
        "      print('True')\n",
        "    else:\n",
        "        print('false')\n",
        "\n",
        "reccorrido()\n",
        "GetElements()\n",
        "\n",
        "\n"
      ],
      "execution_count": 75,
      "outputs": [
        {
          "output_type": "stream",
          "text": [
            "agregar elementos a la lista 6\n",
            "Seguir = y, salir = ny\n",
            "agregar elementos a la lista 7\n",
            "Seguir = y, salir = ny\n",
            "agregar elementos a la lista 6\n",
            "Seguir = y, salir = nn\n",
            "[6, 7, 6]\n",
            "6\n",
            "6\n",
            "True\n"
          ],
          "name": "stdout"
        }
      ]
    },
    {
      "cell_type": "code",
      "metadata": {
        "id": "P01700EGAW54"
      },
      "source": [
        ""
      ],
      "execution_count": null,
      "outputs": []
    }
  ]
}